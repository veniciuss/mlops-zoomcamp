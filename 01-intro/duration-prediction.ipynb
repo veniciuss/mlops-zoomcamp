{
 "cells": [
  {
   "cell_type": "code",
   "execution_count": 15,
   "id": "0c7579bc",
   "metadata": {},
   "outputs": [],
   "source": [
    "import pandas as pd\n",
    "import plotly.express as px\n",
    "import matplotlib.pyplot as plt\n",
    "import seaborn as sns\n",
    "\n",
    "import pickle\n",
    "\n",
    "from sklearn.feature_extraction import DictVectorizer\n",
    "from sklearn.linear_model import LinearRegression, Lasso, Ridge\n",
    "\n",
    "from sklearn.metrics import mean_absolute_error, mean_squared_error,r2_score"
   ]
  },
  {
   "cell_type": "code",
   "execution_count": 16,
   "id": "1ed15009",
   "metadata": {},
   "outputs": [
    {
     "data": {
      "text/plain": [
       "<Experiment: artifact_location='/Users/venicius/Documents/codes/mlops-zoomcamp/01-intro/mlruns/2', creation_time=1755220812333, experiment_id='2', last_update_time=1755220812333, lifecycle_stage='active', name='nyc-taxi-experiment', tags={}>"
      ]
     },
     "execution_count": 16,
     "metadata": {},
     "output_type": "execute_result"
    }
   ],
   "source": [
    "import mlflow\n",
    "mlflow.set_tracking_uri(\"sqlite:///mlflow.db\")\n",
    "mlflow.set_experiment(\"nyc-taxi-experiment\")"
   ]
  },
  {
   "cell_type": "code",
   "execution_count": 17,
   "id": "3ee3ee18",
   "metadata": {},
   "outputs": [],
   "source": [
    "def read_dataframe(filename = './data/green_tripdata_2021-01.parquet'):\n",
    "    df= pd.read_parquet(filename)\n",
    "\n",
    "    df['lpep_pickup_datetime'] = pd.to_datetime(df['lpep_pickup_datetime'])\n",
    "    df['lpep_dropoff_datetime'] = pd.to_datetime(df['lpep_dropoff_datetime'])\n",
    "    \n",
    "    df['duration'] = df['lpep_dropoff_datetime'] - df['lpep_pickup_datetime']\n",
    "    df['duration'] = df.duration.apply(lambda td: td.total_seconds()/60)\n",
    "    df = df[(df.duration >= 1)&(df.duration <= 60)].copy()\n",
    "    \n",
    "    categorical = ['PULocationID', 'DOLocationID']\n",
    "    df[categorical] = df[categorical].astype(str)\n",
    "    \n",
    "    return df"
   ]
  },
  {
   "cell_type": "code",
   "execution_count": 18,
   "id": "52905f15",
   "metadata": {},
   "outputs": [],
   "source": [
    "df_train = read_dataframe()\n",
    "df_val = read_dataframe(filename = './data/green_tripdata_2021-02.parquet')"
   ]
  },
  {
   "cell_type": "code",
   "execution_count": 19,
   "id": "2d367351",
   "metadata": {},
   "outputs": [],
   "source": [
    "df_train['PU_DU'] = df_train['PULocationID'] + '_'+ df_train['DOLocationID'] \n",
    "df_val['PU_DU'] = df_val['PULocationID'] + '_'+ df_val['DOLocationID'] "
   ]
  },
  {
   "cell_type": "code",
   "execution_count": 20,
   "id": "825ffa6f",
   "metadata": {},
   "outputs": [],
   "source": [
    "categorical = ['PU_DU']#'PULocationID', 'DOLocationID']\n",
    "numerical = ['trip_distance', ]\n",
    "\n",
    "dv = DictVectorizer()\n",
    "\n",
    "train_dict = df_train[categorical + numerical].to_dict(orient='records')\n",
    "X_train = dv.fit_transform(train_dict)\n",
    "\n",
    "val_dict = df_val[categorical + numerical].to_dict(orient='records')\n",
    "X_val = dv.transform(val_dict)"
   ]
  },
  {
   "cell_type": "code",
   "execution_count": 21,
   "id": "3591fce8",
   "metadata": {},
   "outputs": [],
   "source": [
    "target = 'duration'\n",
    "y_train = df_train[target].values\n",
    "y_val = df_val[target].values"
   ]
  },
  {
   "cell_type": "code",
   "execution_count": 22,
   "id": "7beac6f5",
   "metadata": {},
   "outputs": [
    {
     "name": "stdout",
     "output_type": "stream",
     "text": [
      "train\n",
      "RMSE 5.699564185837764\n",
      "R2 0.7570393866219574\n",
      "val\n",
      "RMSE 7.758714882773319\n",
      "R2 0.5937204490448376\n"
     ]
    }
   ],
   "source": [
    "from sklearn.metrics import root_mean_squared_error\n",
    "\n",
    "\n",
    "with mlflow.start_run():\n",
    "\n",
    "    mlflow.set_tag(\"model\", \"linear-regression\")\n",
    "    mlflow.set_tag(\"developer\", \"venicius\")\n",
    "    mlflow.log_param(\"train-data-path\", './data/green_tripdata_2021-01.parquet')\n",
    "    mlflow.log_param(\"val-data-path\", './data/green_tripdata_2021-02.parquet')\n",
    "    mlflow.log_param(\"categorical\", categorical)\n",
    "    mlflow.log_param(\"numerical\", numerical)  \n",
    "\n",
    "    lr = LinearRegression()\n",
    "    lr.fit(X_train, y_train)\n",
    "    print('train')\n",
    "    y_train_hat = lr.predict(X_train)\n",
    "\n",
    "    print(\"RMSE\", root_mean_squared_error(y_train, y_train_hat))#, squared = False))\n",
    "\n",
    "    print(\"R2\", r2_score(y_train, y_train_hat))\n",
    "    print('val')\n",
    "    y_val_hat = lr.predict(X_val)\n",
    "\n",
    "    print(\"RMSE\", root_mean_squared_error(y_val, y_val_hat))##, squared = False))\n",
    "\n",
    "    print(\"R2\", r2_score(y_val, y_val_hat))\n",
    "\n",
    "    mlflow.log_metrics({\n",
    "    \"train_rmse\": root_mean_squared_error(y_train, y_train_hat),\n",
    "    \"train_r2\": r2_score(y_train, y_train_hat),\n",
    "    \"val_rmse\": root_mean_squared_error(y_val, y_val_hat),\n",
    "    \"val_r2\": r2_score(y_val, y_val_hat)\n",
    "    })"
   ]
  },
  {
   "cell_type": "markdown",
   "id": "d2f94a69",
   "metadata": {},
   "source": [
    "with open('models/lin_reg.bin', 'wb') as f_out:\n",
    "    pickle.dump((dv, lr), f_out)\n",
    "    "
   ]
  },
  {
   "cell_type": "code",
   "execution_count": 23,
   "id": "96af2489",
   "metadata": {},
   "outputs": [
    {
     "name": "stdout",
     "output_type": "stream",
     "text": [
      "train\n",
      "RMSE 11.496877490906606\n",
      "R2 0.011418714196373858\n",
      "val\n",
      "RMSE 12.143233939842847\n",
      "R2 0.004791442007301638\n"
     ]
    }
   ],
   "source": [
    "with mlflow.start_run():\n",
    "    alpha = 0.1\n",
    "    mlflow.log_param(\"alpha\", alpha)\n",
    "    mlflow.set_tag(\"model\", \"lasso-regression\")\n",
    "    mlflow.set_tag(\"developer\", \"venicius\")\n",
    "    mlflow.log_param(\"train-data-path\", './data/green_tripdata_2021-01.parquet')\n",
    "    mlflow.log_param(\"val-data-path\", './data/green_tripdata_2021-02.parquet')\n",
    "    mlflow.log_param(\"categorical\", categorical)\n",
    "    mlflow.log_param(\"numerical\", numerical) \n",
    "    lr = Lasso(alpha=alpha, random_state=42)\n",
    "    lr.fit(X_train, y_train)\n",
    "    print('train')\n",
    "    y_train_hat = lr.predict(X_train)\n",
    "\n",
    "    print(\"RMSE\", root_mean_squared_error(y_train, y_train_hat))#, squared = False))\n",
    "\n",
    "    print(\"R2\", r2_score(y_train, y_train_hat))\n",
    "    print('val')\n",
    "    y_val_hat = lr.predict(X_val)\n",
    "\n",
    "    print(\"RMSE\", root_mean_squared_error(y_val, y_val_hat))##, squared = False))\n",
    "\n",
    "    print(\"R2\", r2_score(y_val, y_val_hat))\n",
    "\n",
    "    mlflow.log_metrics({\n",
    "    \"train_rmse\": root_mean_squared_error(y_train, y_train_hat),\n",
    "    \"train_r2\": r2_score(y_train, y_train_hat),\n",
    "    \"val_rmse\": root_mean_squared_error(y_val, y_val_hat),\n",
    "    \"val_r2\": r2_score(y_val, y_val_hat)\n",
    "    })"
   ]
  },
  {
   "cell_type": "markdown",
   "id": "22808fce",
   "metadata": {},
   "source": [
    "with open('models/lasso.bin', 'wb') as f_out:\n",
    "    pickle.dump((dv, lr), f_out)\n",
    "    "
   ]
  },
  {
   "cell_type": "code",
   "execution_count": 24,
   "id": "14bef6a9",
   "metadata": {},
   "outputs": [
    {
     "name": "stdout",
     "output_type": "stream",
     "text": [
      "train\n",
      "RMSE 5.065771146648109\n",
      "R2 0.8080696259439102\n",
      "val\n",
      "RMSE 7.5248930084504515\n",
      "R2 0.6178392882936871\n"
     ]
    }
   ],
   "source": [
    "with mlflow.start_run():\n",
    "    alpha = 0.1\n",
    "    mlflow.log_param(\"alpha\", alpha)\n",
    "    mlflow.set_tag(\"model\", \"ridge-regression\")\n",
    "    mlflow.set_tag(\"developer\", \"venicius\")\n",
    "    mlflow.log_param(\"train-data-path\", './data/green_tripdata_2021-01.parquet')\n",
    "    mlflow.log_param(\"val-data-path\", './data/green_tripdata_2021-02.parquet')\n",
    "    mlflow.log_param(\"categorical\", categorical)\n",
    "    mlflow.log_param(\"numerical\", numerical) \n",
    "   \n",
    "\n",
    "    lr = Ridge(alpha=alpha, random_state=42)\n",
    "    lr.fit(X_train, y_train)\n",
    "    print('train')\n",
    "    y_train_hat = lr.predict(X_train)\n",
    "\n",
    "    print(\"RMSE\", root_mean_squared_error(y_train, y_train_hat))#, squared = False))\n",
    "\n",
    "    print(\"R2\", r2_score(y_train, y_train_hat))\n",
    "    print('val')\n",
    "    y_val_hat = lr.predict(X_val)\n",
    "\n",
    "    print(\"RMSE\", root_mean_squared_error(y_val, y_val_hat))##, squared = False))\n",
    "\n",
    "    print(\"R2\", r2_score(y_val, y_val_hat))\n",
    "\n",
    "    mlflow.log_metrics({\n",
    "    \"train_rmse\": root_mean_squared_error(y_train, y_train_hat),\n",
    "    \"train_r2\": r2_score(y_train, y_train_hat),\n",
    "    \"val_rmse\": root_mean_squared_error(y_val, y_val_hat),\n",
    "    \"val_r2\": r2_score(y_val, y_val_hat)\n",
    "    })"
   ]
  },
  {
   "cell_type": "markdown",
   "id": "7b4ca67a",
   "metadata": {},
   "source": [
    "with open('models/ridge.bin', 'wb') as f_out:\n",
    "    pickle.dump((dv, lr), f_out)\n",
    "    "
   ]
  },
  {
   "cell_type": "code",
   "execution_count": null,
   "id": "4f58ca2c",
   "metadata": {},
   "outputs": [],
   "source": [
    "\n",
    "train = xgb.DMatrix(X_train, label=y_train)\n",
    "valid = xgb.DMatrix(X_val, label=y_val)\n",
    "\n",
    "def objective(params):\n",
    "    with mlflow.start_run():\n",
    "        mlflow.set_tag(\"model\", \"xgboost\")\n",
    "        mlflow.log_params(params)\n",
    "        booster = xgb.train(\n",
    "            params=params,\n",
    "            dtrain=train,\n",
    "            num_boost_round=1000,\n",
    "            evals=[(valid, 'validation')],\n",
    "            early_stopping_rounds=50\n",
    "        )\n",
    "        y_pred = booster.predict(valid)\n",
    "        rmse = mean_squared_error(y_val, y_pred, squared=False)\n",
    "        mlflow.log_metric(\"rmse\", rmse)\n",
    "\n",
    "    return {'loss': rmse, 'status': STATUS_OK}\n",
    "\n",
    "search_space = {\n",
    "    'max_depth': scope.int(hp.quniform('max_depth', 4, 100, 1)),\n",
    "    'learning_rate': hp.loguniform('learning_rate', -3, 0),\n",
    "    'reg_alpha': hp.loguniform('reg_alpha', -5, -1),\n",
    "    'reg_lambda': hp.loguniform('reg_lambda', -6, -1),\n",
    "    'min_child_weight': hp.loguniform('min_child_weight', -1, 3),\n",
    "    'objective': 'reg:linear',\n",
    "    'seed': 42\n",
    "}\n",
    "\n",
    "best_result = fmin(\n",
    "    fn=objective,\n",
    "    space=search_space,\n",
    "    algo=tpe.suggest,\n",
    "    max_evals=50,\n",
    "    trials=Trials()\n",
    ")"
   ]
  }
 ],
 "metadata": {
  "kernelspec": {
   "display_name": "exp-tracking-env",
   "language": "python",
   "name": "python3"
  },
  "language_info": {
   "codemirror_mode": {
    "name": "ipython",
    "version": 3
   },
   "file_extension": ".py",
   "mimetype": "text/x-python",
   "name": "python",
   "nbconvert_exporter": "python",
   "pygments_lexer": "ipython3",
   "version": "3.10.18"
  }
 },
 "nbformat": 4,
 "nbformat_minor": 5
}
