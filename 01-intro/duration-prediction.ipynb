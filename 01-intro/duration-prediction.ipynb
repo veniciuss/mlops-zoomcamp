{
 "cells": [
  {
   "cell_type": "code",
   "execution_count": 3,
   "id": "0c7579bc",
   "metadata": {},
   "outputs": [],
   "source": [
    "import pandas as pd\n",
    "import plotly.express as px\n",
    "import matplotlib.pyplot as plt\n",
    "import seaborn as sns\n",
    "\n",
    "import pickle\n",
    "\n",
    "from sklearn.feature_extraction import DictVectorizer\n",
    "from sklearn.linear_model import LinearRegression, Lasso, Ridge\n",
    "\n",
    "from sklearn.metrics import mean_absolute_error, mean_squared_error,r2_score"
   ]
  },
  {
   "cell_type": "code",
   "execution_count": 4,
   "id": "3ee3ee18",
   "metadata": {},
   "outputs": [],
   "source": [
    "def read_dataframe(filename = './data/green_tripdata_2021-01.parquet'):\n",
    "    df= pd.read_parquet(filename)\n",
    "\n",
    "    df['lpep_pickup_datetime'] = pd.to_datetime(df['lpep_pickup_datetime'])\n",
    "    df['lpep_dropoff_datetime'] = pd.to_datetime(df['lpep_dropoff_datetime'])\n",
    "    \n",
    "    df['duration'] = df['lpep_dropoff_datetime'] - df['lpep_pickup_datetime']\n",
    "    df['duration'] = df.duration.apply(lambda td: td.total_seconds()/60)\n",
    "    df = df[(df.duration >= 1)&(df.duration <= 60)].copy()\n",
    "    \n",
    "    categorical = ['PULocationID', 'DOLocationID']\n",
    "    df[categorical] = df[categorical].astype(str)\n",
    "    \n",
    "    return df"
   ]
  },
  {
   "cell_type": "code",
   "execution_count": 5,
   "id": "52905f15",
   "metadata": {},
   "outputs": [],
   "source": [
    "df_train = read_dataframe()\n",
    "df_val = read_dataframe(filename = './data/green_tripdata_2021-02.parquet')"
   ]
  },
  {
   "cell_type": "code",
   "execution_count": 6,
   "id": "2d367351",
   "metadata": {},
   "outputs": [],
   "source": [
    "df_train['PU_DU'] = df_train['PULocationID'] + '_'+ df_train['DOLocationID'] \n",
    "df_val['PU_DU'] = df_val['PULocationID'] + '_'+ df_val['DOLocationID'] "
   ]
  },
  {
   "cell_type": "code",
   "execution_count": 7,
   "id": "825ffa6f",
   "metadata": {},
   "outputs": [],
   "source": [
    "categorical = ['PU_DU']#'PULocationID', 'DOLocationID']\n",
    "numerical = ['trip_distance', ]\n",
    "\n",
    "dv = DictVectorizer()\n",
    "\n",
    "train_dict = df_train[categorical + numerical].to_dict(orient='records')\n",
    "X_train = dv.fit_transform(train_dict)\n",
    "\n",
    "val_dict = df_val[categorical + numerical].to_dict(orient='records')\n",
    "X_val = dv.transform(val_dict)"
   ]
  },
  {
   "cell_type": "code",
   "execution_count": 8,
   "id": "3591fce8",
   "metadata": {},
   "outputs": [],
   "source": [
    "target = 'duration'\n",
    "y_train = df_train[target].values\n",
    "y_val = df_val[target].values"
   ]
  },
  {
   "cell_type": "code",
   "execution_count": 9,
   "id": "7beac6f5",
   "metadata": {},
   "outputs": [
    {
     "name": "stdout",
     "output_type": "stream",
     "text": [
      "train\n",
      "MSE 4.640808516968527\n",
      "R2 0.8389206469633814\n",
      "val\n",
      "MSE 7.479562160810692\n",
      "R2 0.622429782552913\n"
     ]
    }
   ],
   "source": [
    "lr = LinearRegression()\n",
    "lr.fit(X_train, y_train)\n",
    "print('train')\n",
    "y_train_hat = lr.predict(X_train)\n",
    "\n",
    "print(\"MSE\", mean_squared_error(y_train, y_train_hat, squared = False))\n",
    "\n",
    "print(\"R2\", r2_score(y_train, y_train_hat))\n",
    "print('val')\n",
    "y_val_hat = lr.predict(X_val)\n",
    "\n",
    "print(\"MSE\", mean_squared_error(y_val, y_val_hat, squared = False))\n",
    "\n",
    "print(\"R2\", r2_score(y_val, y_val_hat))"
   ]
  },
  {
   "cell_type": "code",
   "execution_count": null,
   "id": "d2f94a69",
   "metadata": {},
   "outputs": [],
   "source": [
    "with open('models/lin_reg.bin', 'wb') as f_out:\n",
    "    pickle.dump((dv, lr), f_out)\n",
    "    "
   ]
  },
  {
   "cell_type": "code",
   "execution_count": 11,
   "id": "96af2489",
   "metadata": {},
   "outputs": [
    {
     "name": "stdout",
     "output_type": "stream",
     "text": [
      "train\n",
      "MSE 11.562050466293025\n",
      "R2 0.00017889723988795403\n",
      "val\n",
      "MSE 12.212583224318818\n",
      "R2 -0.0066081699465667665\n"
     ]
    }
   ],
   "source": [
    "lr = Lasso()\n",
    "lr.fit(X_train, y_train)\n",
    "print('train')\n",
    "y_train_hat = lr.predict(X_train)\n",
    "\n",
    "print(\"MSE\", mean_squared_error(y_train, y_train_hat, squared = False))\n",
    "\n",
    "print(\"R2\", r2_score(y_train, y_train_hat))\n",
    "print('val')\n",
    "y_val_hat = lr.predict(X_val)\n",
    "\n",
    "print(\"MSE\", mean_squared_error(y_val, y_val_hat, squared = False))\n",
    "\n",
    "print(\"R2\", r2_score(y_val, y_val_hat))"
   ]
  },
  {
   "cell_type": "code",
   "execution_count": 12,
   "id": "22808fce",
   "metadata": {},
   "outputs": [],
   "source": [
    "with open('models/lasso.bin', 'wb') as f_out:\n",
    "    pickle.dump((dv, lr), f_out)\n",
    "    "
   ]
  },
  {
   "cell_type": "code",
   "execution_count": 13,
   "id": "14bef6a9",
   "metadata": {},
   "outputs": [
    {
     "name": "stdout",
     "output_type": "stream",
     "text": [
      "train\n",
      "MSE 10.712682923244786\n",
      "R2 0.14168030268953524\n",
      "val\n",
      "MSE 11.342603943250333\n",
      "R2 0.13169777481020617\n"
     ]
    }
   ],
   "source": [
    "lr = Ridge()\n",
    "lr.fit(X_train, y_train)\n",
    "print('train')\n",
    "y_train_hat = lr.predict(X_train)\n",
    "\n",
    "print(\"MSE\", mean_squared_error(y_train, y_train_hat, squared = False))\n",
    "\n",
    "print(\"R2\", r2_score(y_train, y_train_hat))\n",
    "print('val')\n",
    "y_val_hat = lr.predict(X_val)\n",
    "\n",
    "print(\"MSE\", mean_squared_error(y_val, y_val_hat, squared = False))\n",
    "\n",
    "print(\"R2\", r2_score(y_val, y_val_hat))"
   ]
  },
  {
   "cell_type": "code",
   "execution_count": 14,
   "id": "7b4ca67a",
   "metadata": {},
   "outputs": [],
   "source": [
    "with open('models/ridge.bin', 'wb') as f_out:\n",
    "    pickle.dump((dv, lr), f_out)\n",
    "    "
   ]
  }
 ],
 "metadata": {
  "kernelspec": {
   "display_name": "Python 3 (ipykernel)",
   "language": "python",
   "name": "python3"
  },
  "language_info": {
   "codemirror_mode": {
    "name": "ipython",
    "version": 3
   },
   "file_extension": ".py",
   "mimetype": "text/x-python",
   "name": "python",
   "nbconvert_exporter": "python",
   "pygments_lexer": "ipython3",
   "version": "3.9.12"
  }
 },
 "nbformat": 4,
 "nbformat_minor": 5
}
